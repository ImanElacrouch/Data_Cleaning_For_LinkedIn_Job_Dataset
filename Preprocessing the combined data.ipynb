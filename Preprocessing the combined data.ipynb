{
 "cells": [
  {
   "cell_type": "code",
   "execution_count": 1,
   "id": "e03f16da",
   "metadata": {},
   "outputs": [
    {
     "name": "stdout",
     "output_type": "stream",
     "text": [
      "Cleaned data has been written to C:\\Users\\User\\Desktop\\Project\\2-Cleaning_Data\\cleaned_jobs_data.csv\n"
     ]
    }
   ],
   "source": [
    "import csv\n",
    "from datetime import datetime\n",
    "\n",
    "# Input and output file paths\n",
    "input_file = \"C:\\\\Users\\\\User\\\\Desktop\\\\Project\\\\2-Cleaning_Data\\\\combined_jobs_data.csv\"\n",
    "output_file = \"C:\\\\Users\\\\User\\\\Desktop\\\\Project\\\\2-Cleaning_Data\\\\cleaned_jobs_data.csv\"\n",
    "\n",
    "def standardize_date(date_str):\n",
    "    # Handle different date formats\n",
    "    for fmt in (\"%Y\", \"%d/%m/%Y\", \"%Y-%m-%d\"):\n",
    "        try:\n",
    "            return datetime.strptime(date_str.strip(), fmt).strftime(\"%Y-%m-%d\")\n",
    "        except ValueError:\n",
    "            pass\n",
    "    return None\n",
    "\n",
    "with open(input_file, newline='', encoding='utf-8') as csvfile:\n",
    "    reader = csv.DictReader(csvfile)\n",
    "    rows = []\n",
    "\n",
    "    for row in reader:\n",
    "        row['datePublication'] = standardize_date(row['datePublication'])\n",
    "        rows.append(row)\n",
    "\n",
    "with open(output_file, 'w', newline='', encoding='utf-8') as csvfile:\n",
    "    fieldnames = ['job_title', 'company_location', 'datePublication']\n",
    "    writer = csv.DictWriter(csvfile, fieldnames=fieldnames)\n",
    "\n",
    "    writer.writeheader()\n",
    "    writer.writerows(rows)\n",
    "\n",
    "print(f\"Cleaned data has been written to {output_file}\")"
   ]
  },
  {
   "cell_type": "code",
   "execution_count": 27,
   "id": "7908e50a",
   "metadata": {},
   "outputs": [
    {
     "data": {
      "text/html": [
       "<div>\n",
       "<style scoped>\n",
       "    .dataframe tbody tr th:only-of-type {\n",
       "        vertical-align: middle;\n",
       "    }\n",
       "\n",
       "    .dataframe tbody tr th {\n",
       "        vertical-align: top;\n",
       "    }\n",
       "\n",
       "    .dataframe thead th {\n",
       "        text-align: right;\n",
       "    }\n",
       "</style>\n",
       "<table border=\"1\" class=\"dataframe\">\n",
       "  <thead>\n",
       "    <tr style=\"text-align: right;\">\n",
       "      <th></th>\n",
       "      <th>job_title</th>\n",
       "      <th>company_location</th>\n",
       "      <th>datePublication</th>\n",
       "    </tr>\n",
       "  </thead>\n",
       "  <tbody>\n",
       "    <tr>\n",
       "      <th>0</th>\n",
       "      <td>Data Analyst H/F</td>\n",
       "      <td>Greater Paris Metropolitan Region</td>\n",
       "      <td>2024-01-01</td>\n",
       "    </tr>\n",
       "    <tr>\n",
       "      <th>1</th>\n",
       "      <td>Data Scientist</td>\n",
       "      <td>Reims, Grand Est, France</td>\n",
       "      <td>2024-01-01</td>\n",
       "    </tr>\n",
       "    <tr>\n",
       "      <th>2</th>\n",
       "      <td>Junior Financial Business Analyst</td>\n",
       "      <td>Issy-les-Moulineaux, Île-de-France, France</td>\n",
       "      <td>2024-01-01</td>\n",
       "    </tr>\n",
       "    <tr>\n",
       "      <th>3</th>\n",
       "      <td>Media Data intern</td>\n",
       "      <td>Paris, Île-de-France, France</td>\n",
       "      <td>2024-01-01</td>\n",
       "    </tr>\n",
       "    <tr>\n",
       "      <th>4</th>\n",
       "      <td>Data Scientist Assistant</td>\n",
       "      <td>Montpellier, Occitanie, France</td>\n",
       "      <td>2024-01-01</td>\n",
       "    </tr>\n",
       "  </tbody>\n",
       "</table>\n",
       "</div>"
      ],
      "text/plain": [
       "                           job_title  \\\n",
       "0                   Data Analyst H/F   \n",
       "1                     Data Scientist   \n",
       "2  Junior Financial Business Analyst   \n",
       "3                  Media Data intern   \n",
       "4           Data Scientist Assistant   \n",
       "\n",
       "                             company_location datePublication  \n",
       "0           Greater Paris Metropolitan Region      2024-01-01  \n",
       "1                    Reims, Grand Est, France      2024-01-01  \n",
       "2  Issy-les-Moulineaux, Île-de-France, France      2024-01-01  \n",
       "3                Paris, Île-de-France, France      2024-01-01  \n",
       "4              Montpellier, Occitanie, France      2024-01-01  "
      ]
     },
     "execution_count": 27,
     "metadata": {},
     "output_type": "execute_result"
    }
   ],
   "source": [
    "import pandas as pd\n",
    "data= pd.read_csv('cleaned_jobs_data.csv')\n",
    "data.head()"
   ]
  },
  {
   "cell_type": "code",
   "execution_count": 28,
   "id": "fb2e231c",
   "metadata": {},
   "outputs": [
    {
     "name": "stdout",
     "output_type": "stream",
     "text": [
      "42\n"
     ]
    }
   ],
   "source": [
    "# Check for null values in the datePublication column\n",
    "null_values = data['datePublication'].isnull().sum()\n",
    "\n",
    "# Print the null values\n",
    "print(null_values)"
   ]
  },
  {
   "cell_type": "code",
   "execution_count": 29,
   "id": "9e239fc3",
   "metadata": {},
   "outputs": [
    {
     "data": {
      "text/plain": [
       "(10796, 3)"
      ]
     },
     "execution_count": 29,
     "metadata": {},
     "output_type": "execute_result"
    }
   ],
   "source": [
    "data.shape"
   ]
  },
  {
   "cell_type": "code",
   "execution_count": 30,
   "id": "59cad4ea",
   "metadata": {},
   "outputs": [],
   "source": [
    "# Drop rows with null values in the datePublication column\n",
    "cleaned_data = data.dropna(subset=['datePublication'])"
   ]
  },
  {
   "cell_type": "code",
   "execution_count": 31,
   "id": "ca04ff62",
   "metadata": {},
   "outputs": [
    {
     "name": "stdout",
     "output_type": "stream",
     "text": [
      "Number of null values in datePublication after cleaning: 0\n"
     ]
    }
   ],
   "source": [
    "# Verify the null values have been removed\n",
    "null_values_after = cleaned_data['datePublication'].isnull().sum()\n",
    "print(f\"Number of null values in datePublication after cleaning: {null_values_after}\")"
   ]
  },
  {
   "cell_type": "code",
   "execution_count": 32,
   "id": "8ef2b868",
   "metadata": {},
   "outputs": [],
   "source": [
    "# Remove periods and commas from the job_title and company_location columns\n",
    "data['job_title'] = data['job_title'].str.replace('.', '', regex=False)\n",
    "data['job_title'] = data['job_title'].str.replace(',', '', regex=False)\n",
    "\n",
    "data['company_location'] = data['company_location'].str.replace('.', '', regex=False)\n",
    "data['company_location'] = data['company_location'].str.replace(',', '', regex=False)"
   ]
  },
  {
   "cell_type": "code",
   "execution_count": 33,
   "id": "af2a48ae",
   "metadata": {},
   "outputs": [
    {
     "name": "stdout",
     "output_type": "stream",
     "text": [
      "Row 1262 has been removed\n"
     ]
    }
   ],
   "source": [
    "\n",
    "# Remove row 1262\n",
    "data = data.drop(index=1262)\n",
    "\n",
    "print(\"Row 1262 has been removed\")"
   ]
  },
  {
   "cell_type": "code",
   "execution_count": 34,
   "id": "5fc3c843",
   "metadata": {},
   "outputs": [
    {
     "name": "stdout",
     "output_type": "stream",
     "text": [
      "Data has been cleaned and saved to 'updated_preprocessed_jobs_data.csv'\n"
     ]
    }
   ],
   "source": [
    "# Save the updated DataFrame to a new CSV file\n",
    "data.to_csv(\"preprocessed_jobs_data.csv\", index=False)\n",
    "\n",
    "print(\"Data has been cleaned and saved to 'updated_preprocessed_jobs_data.csv'\")"
   ]
  },
  {
   "cell_type": "code",
   "execution_count": 35,
   "id": "5f8d401c",
   "metadata": {},
   "outputs": [
    {
     "data": {
      "text/html": [
       "<div>\n",
       "<style scoped>\n",
       "    .dataframe tbody tr th:only-of-type {\n",
       "        vertical-align: middle;\n",
       "    }\n",
       "\n",
       "    .dataframe tbody tr th {\n",
       "        vertical-align: top;\n",
       "    }\n",
       "\n",
       "    .dataframe thead th {\n",
       "        text-align: right;\n",
       "    }\n",
       "</style>\n",
       "<table border=\"1\" class=\"dataframe\">\n",
       "  <thead>\n",
       "    <tr style=\"text-align: right;\">\n",
       "      <th></th>\n",
       "      <th>job_title</th>\n",
       "      <th>company_location</th>\n",
       "      <th>datePublication</th>\n",
       "    </tr>\n",
       "  </thead>\n",
       "  <tbody>\n",
       "    <tr>\n",
       "      <th>0</th>\n",
       "      <td>Data Analyst H/F</td>\n",
       "      <td>Greater Paris Metropolitan Region</td>\n",
       "      <td>2024-01-01</td>\n",
       "    </tr>\n",
       "    <tr>\n",
       "      <th>1</th>\n",
       "      <td>Data Scientist</td>\n",
       "      <td>Reims Grand Est France</td>\n",
       "      <td>2024-01-01</td>\n",
       "    </tr>\n",
       "    <tr>\n",
       "      <th>2</th>\n",
       "      <td>Junior Financial Business Analyst</td>\n",
       "      <td>Issy-les-Moulineaux Île-de-France France</td>\n",
       "      <td>2024-01-01</td>\n",
       "    </tr>\n",
       "    <tr>\n",
       "      <th>3</th>\n",
       "      <td>Media Data intern</td>\n",
       "      <td>Paris Île-de-France France</td>\n",
       "      <td>2024-01-01</td>\n",
       "    </tr>\n",
       "    <tr>\n",
       "      <th>4</th>\n",
       "      <td>Data Scientist Assistant</td>\n",
       "      <td>Montpellier Occitanie France</td>\n",
       "      <td>2024-01-01</td>\n",
       "    </tr>\n",
       "  </tbody>\n",
       "</table>\n",
       "</div>"
      ],
      "text/plain": [
       "                           job_title  \\\n",
       "0                   Data Analyst H/F   \n",
       "1                     Data Scientist   \n",
       "2  Junior Financial Business Analyst   \n",
       "3                  Media Data intern   \n",
       "4           Data Scientist Assistant   \n",
       "\n",
       "                           company_location datePublication  \n",
       "0         Greater Paris Metropolitan Region      2024-01-01  \n",
       "1                    Reims Grand Est France      2024-01-01  \n",
       "2  Issy-les-Moulineaux Île-de-France France      2024-01-01  \n",
       "3                Paris Île-de-France France      2024-01-01  \n",
       "4              Montpellier Occitanie France      2024-01-01  "
      ]
     },
     "execution_count": 35,
     "metadata": {},
     "output_type": "execute_result"
    }
   ],
   "source": [
    "import pandas as pd\n",
    "\n",
    "# Load the cleaned data\n",
    "data = pd.read_csv(\"preprocessed_jobs_data.csv\")\n",
    "data.head()"
   ]
  },
  {
   "cell_type": "code",
   "execution_count": 38,
   "id": "996263bf",
   "metadata": {},
   "outputs": [
    {
     "name": "stdout",
     "output_type": "stream",
     "text": [
      "job_title                           Data Analyst\n",
      "company_location    North Carolina United States\n",
      "datePublication                       2022-11-08\n",
      "Name: 10000, dtype: object\n"
     ]
    }
   ],
   "source": [
    "\n",
    "\n",
    "# Access row 1262\n",
    "row_1262 = data.iloc[10000]\n",
    "\n",
    "# Print the job_title from row 1262\n",
    "print(row_1262)\n"
   ]
  },
  {
   "cell_type": "code",
   "execution_count": 39,
   "id": "9ee8983d",
   "metadata": {},
   "outputs": [
    {
     "name": "stdout",
     "output_type": "stream",
     "text": [
      "The first 500 rows have been saved to 'first_500_rows.csv'\n"
     ]
    }
   ],
   "source": [
    "import pandas as pd\n",
    "\n",
    "# Load the cleaned data\n",
    "data = pd.read_csv(\"preprocessed_jobs_data.csv\")\n",
    "\n",
    "# Select the first 500 rows\n",
    "data_first_500 = data.head(500)\n",
    "\n",
    "# Save the first 500 rows to a new CSV file\n",
    "data_first_500.to_csv(\"first_500_rows.csv\", index=False)\n",
    "\n",
    "print(\"The first 500 rows have been saved to 'first_500_rows.csv'\")\n"
   ]
  },
  {
   "cell_type": "code",
   "execution_count": null,
   "id": "175493b1",
   "metadata": {},
   "outputs": [],
   "source": []
  }
 ],
 "metadata": {
  "kernelspec": {
   "display_name": "Python 3 (ipykernel)",
   "language": "python",
   "name": "python3"
  },
  "language_info": {
   "codemirror_mode": {
    "name": "ipython",
    "version": 3
   },
   "file_extension": ".py",
   "mimetype": "text/x-python",
   "name": "python",
   "nbconvert_exporter": "python",
   "pygments_lexer": "ipython3",
   "version": "3.11.3"
  }
 },
 "nbformat": 4,
 "nbformat_minor": 5
}

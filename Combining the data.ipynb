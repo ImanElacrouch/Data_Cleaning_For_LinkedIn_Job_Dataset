{
 "cells": [
  {
   "cell_type": "code",
   "execution_count": 2,
   "id": "9a0138a1",
   "metadata": {},
   "outputs": [
    {
     "name": "stdout",
     "output_type": "stream",
     "text": [
      "                           job_title  \\\n",
      "0                   Data Analyst H/F   \n",
      "1                     Data Scientist   \n",
      "2  Junior Financial Business Analyst   \n",
      "3                  Media Data intern   \n",
      "4           Data Scientist Assistant   \n",
      "\n",
      "                             company_location datePublication  \n",
      "0           Greater Paris Metropolitan Region            2024  \n",
      "1                    Reims, Grand Est, France            2024  \n",
      "2  Issy-les-Moulineaux, Île-de-France, France            2024  \n",
      "3                Paris, Île-de-France, France            2024  \n",
      "4              Montpellier, Occitanie, France            2024  \n",
      "(10796, 3)\n"
     ]
    }
   ],
   "source": [
    "import pandas as pd\n",
    "\n",
    "# Load and clean data_1\n",
    "data_1 = pd.read_csv('scrapped jobs.csv')\n",
    "data_1 = data_1[['job_title', 'company_location']]  # Keep only relevant columns\n",
    "data_1['datePublication'] = 2024  # Add the 'datePublication' column with a default value\n",
    "\n",
    "# Load and clean data_2\n",
    "data_2 = pd.read_csv('French jobs dataset.csv')\n",
    "data_2 = data_2[['adresseOffre', 'intitule', 'datePublication']]\n",
    "data_2 = data_2.rename(columns={'adresseOffre': 'company_location', 'intitule': 'job_title'})\n",
    "data_2['datePublication'] = data_2['datePublication'].str.split('T').str[0]  # Ensure date format\n",
    "\n",
    "# Load and clean data_3\n",
    "data_3 = pd.read_csv('data_science_canada_march_2024.csv')\n",
    "data_3 = data_3[['location', 'publishedAt', 'title']]\n",
    "data_3 = data_3.rename(columns={'location': 'company_location', 'publishedAt': 'datePublication', 'title': 'job_title'})\n",
    "\n",
    "# Load and clean data_4\n",
    "data_4 = pd.read_csv('linkedin_canada.csv')\n",
    "data_4 = data_4[['location', 'publishedAt', 'title']]\n",
    "data_4 = data_4.rename(columns={'location': 'company_location', 'publishedAt': 'datePublication', 'title': 'job_title'})\n",
    "\n",
    "# Load and clean data_5\n",
    "data_5 = pd.read_csv('linkedin-jobs-africa.csv')\n",
    "data_5 = data_5[['title', 'location', 'posted_date']]\n",
    "data_5 = data_5.rename(columns={'location': 'company_location', 'posted_date': 'datePublication', 'title': 'job_title'})\n",
    "\n",
    "# Load and clean data_6 (same as data_5, adjust if different)\n",
    "data_6 = pd.read_csv('linkedin-jobs-africa.csv')\n",
    "data_6 = data_6[['title', 'location', 'posted_date']]\n",
    "data_6 = data_6.rename(columns={'location': 'company_location', 'posted_date': 'datePublication', 'title': 'job_title'})\n",
    "\n",
    "# Load and clean data_7\n",
    "data_7 = pd.read_csv('linkedin-jobs-usa.csv')\n",
    "data_7 = data_7[['title', 'location', 'posted_date']]\n",
    "data_7 = data_7.rename(columns={'location': 'company_location', 'posted_date': 'datePublication', 'title': 'job_title'})\n",
    "\n",
    "# Combine all cleaned DataFrames\n",
    "combined_data = pd.concat([data_1, data_2, data_3, data_4, data_5, data_6, data_7], ignore_index=True)\n",
    "\n",
    "# Display the combined DataFrame\n",
    "print(combined_data.head())\n",
    "print(combined_data.shape)\n"
   ]
  },
  {
   "cell_type": "code",
   "execution_count": 3,
   "id": "72fe9537",
   "metadata": {},
   "outputs": [],
   "source": [
    "import pandas as pd\n",
    "\n",
    "# Assuming combined_data is the final DataFrame after all processing\n",
    "combined_data.to_csv('combined_jobs_data.csv', index=False)"
   ]
  },
  {
   "cell_type": "code",
   "execution_count": 4,
   "id": "141af283",
   "metadata": {},
   "outputs": [],
   "source": [
    "data= pd.read_csv('combined_jobs_data.csv')"
   ]
  },
  {
   "cell_type": "code",
   "execution_count": 6,
   "id": "94bbdfe9",
   "metadata": {},
   "outputs": [
    {
     "data": {
      "text/html": [
       "<div>\n",
       "<style scoped>\n",
       "    .dataframe tbody tr th:only-of-type {\n",
       "        vertical-align: middle;\n",
       "    }\n",
       "\n",
       "    .dataframe tbody tr th {\n",
       "        vertical-align: top;\n",
       "    }\n",
       "\n",
       "    .dataframe thead th {\n",
       "        text-align: right;\n",
       "    }\n",
       "</style>\n",
       "<table border=\"1\" class=\"dataframe\">\n",
       "  <thead>\n",
       "    <tr style=\"text-align: right;\">\n",
       "      <th></th>\n",
       "      <th>job_title</th>\n",
       "      <th>company_location</th>\n",
       "      <th>datePublication</th>\n",
       "    </tr>\n",
       "  </thead>\n",
       "  <tbody>\n",
       "    <tr>\n",
       "      <th>10791</th>\n",
       "      <td>Junior Data Analyst</td>\n",
       "      <td>Texas, United States</td>\n",
       "      <td>2022-10-21</td>\n",
       "    </tr>\n",
       "    <tr>\n",
       "      <th>10792</th>\n",
       "      <td>Data Analyst (SQL)</td>\n",
       "      <td>New York City Metropolitan Area</td>\n",
       "      <td>2022-10-26</td>\n",
       "    </tr>\n",
       "    <tr>\n",
       "      <th>10793</th>\n",
       "      <td>Data Analyst</td>\n",
       "      <td>Mishawaka, IN</td>\n",
       "      <td>2022-11-17</td>\n",
       "    </tr>\n",
       "    <tr>\n",
       "      <th>10794</th>\n",
       "      <td>Data Analyst</td>\n",
       "      <td>Nashville Metropolitan Area</td>\n",
       "      <td>2022-11-14</td>\n",
       "    </tr>\n",
       "    <tr>\n",
       "      <th>10795</th>\n",
       "      <td>Data Analyst</td>\n",
       "      <td>Burbank, CA</td>\n",
       "      <td>2022-11-14</td>\n",
       "    </tr>\n",
       "  </tbody>\n",
       "</table>\n",
       "</div>"
      ],
      "text/plain": [
       "                 job_title                 company_location datePublication\n",
       "10791  Junior Data Analyst             Texas, United States      2022-10-21\n",
       "10792   Data Analyst (SQL)  New York City Metropolitan Area      2022-10-26\n",
       "10793         Data Analyst                    Mishawaka, IN      2022-11-17\n",
       "10794         Data Analyst      Nashville Metropolitan Area      2022-11-14\n",
       "10795         Data Analyst                      Burbank, CA      2022-11-14"
      ]
     },
     "execution_count": 6,
     "metadata": {},
     "output_type": "execute_result"
    }
   ],
   "source": [
    "data.tail()"
   ]
  },
  {
   "cell_type": "code",
   "execution_count": null,
   "id": "72bd6191",
   "metadata": {},
   "outputs": [],
   "source": []
  }
 ],
 "metadata": {
  "kernelspec": {
   "display_name": "Python 3 (ipykernel)",
   "language": "python",
   "name": "python3"
  },
  "language_info": {
   "codemirror_mode": {
    "name": "ipython",
    "version": 3
   },
   "file_extension": ".py",
   "mimetype": "text/x-python",
   "name": "python",
   "nbconvert_exporter": "python",
   "pygments_lexer": "ipython3",
   "version": "3.11.3"
  }
 },
 "nbformat": 4,
 "nbformat_minor": 5
}

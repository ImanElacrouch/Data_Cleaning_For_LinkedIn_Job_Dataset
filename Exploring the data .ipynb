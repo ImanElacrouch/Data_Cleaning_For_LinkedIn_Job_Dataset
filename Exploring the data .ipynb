{
 "cells": [
  {
   "cell_type": "code",
   "execution_count": 1,
   "id": "347cafa9",
   "metadata": {},
   "outputs": [],
   "source": [
    "import pandas as pd\n",
    "import numpy as np"
   ]
  },
  {
   "cell_type": "code",
   "execution_count": 10,
   "id": "49ad3771",
   "metadata": {},
   "outputs": [
    {
     "data": {
      "text/html": [
       "<div>\n",
       "<style scoped>\n",
       "    .dataframe tbody tr th:only-of-type {\n",
       "        vertical-align: middle;\n",
       "    }\n",
       "\n",
       "    .dataframe tbody tr th {\n",
       "        vertical-align: top;\n",
       "    }\n",
       "\n",
       "    .dataframe thead th {\n",
       "        text-align: right;\n",
       "    }\n",
       "</style>\n",
       "<table border=\"1\" class=\"dataframe\">\n",
       "  <thead>\n",
       "    <tr style=\"text-align: right;\">\n",
       "      <th></th>\n",
       "      <th>job_title</th>\n",
       "      <th>job_detail_url</th>\n",
       "      <th>job_listed</th>\n",
       "      <th>company_name</th>\n",
       "      <th>company_link</th>\n",
       "      <th>company_location</th>\n",
       "    </tr>\n",
       "  </thead>\n",
       "  <tbody>\n",
       "    <tr>\n",
       "      <th>0</th>\n",
       "      <td>Data Analyst H/F</td>\n",
       "      <td>https://fr.linkedin.com/jobs/view/data-analyst...</td>\n",
       "      <td>1 day ago</td>\n",
       "      <td>Groupe TF1</td>\n",
       "      <td>https://fr.linkedin.com/company/groupetf1?trk=...</td>\n",
       "      <td>Greater Paris Metropolitan Region</td>\n",
       "    </tr>\n",
       "    <tr>\n",
       "      <th>1</th>\n",
       "      <td>Data Scientist</td>\n",
       "      <td>https://fr.linkedin.com/jobs/view/data-scienti...</td>\n",
       "      <td>8 hours ago</td>\n",
       "      <td>Université de Reims Champagne-Ardenne</td>\n",
       "      <td>https://fr.linkedin.com/company/universite-de-...</td>\n",
       "      <td>Reims, Grand Est, France</td>\n",
       "    </tr>\n",
       "    <tr>\n",
       "      <th>2</th>\n",
       "      <td>Junior Financial Business Analyst</td>\n",
       "      <td>https://fr.linkedin.com/jobs/view/junior-finan...</td>\n",
       "      <td>1 week ago</td>\n",
       "      <td>Accor</td>\n",
       "      <td>https://fr.linkedin.com/company/accor?trk=publ...</td>\n",
       "      <td>Issy-les-Moulineaux, Île-de-France, France</td>\n",
       "    </tr>\n",
       "    <tr>\n",
       "      <th>3</th>\n",
       "      <td>Media Data intern</td>\n",
       "      <td>https://fr.linkedin.com/jobs/view/media-data-i...</td>\n",
       "      <td>1 week ago</td>\n",
       "      <td>Loewe</td>\n",
       "      <td>https://es.linkedin.com/company/loewe?trk=publ...</td>\n",
       "      <td>Paris, Île-de-France, France</td>\n",
       "    </tr>\n",
       "    <tr>\n",
       "      <th>4</th>\n",
       "      <td>Data Scientist Assistant</td>\n",
       "      <td>https://fr.linkedin.com/jobs/view/data-scienti...</td>\n",
       "      <td>3 weeks ago</td>\n",
       "      <td>Teads</td>\n",
       "      <td>https://www.linkedin.com/company/teads?trk=pub...</td>\n",
       "      <td>Montpellier, Occitanie, France</td>\n",
       "    </tr>\n",
       "  </tbody>\n",
       "</table>\n",
       "</div>"
      ],
      "text/plain": [
       "                           job_title  \\\n",
       "0                   Data Analyst H/F   \n",
       "1                     Data Scientist   \n",
       "2  Junior Financial Business Analyst   \n",
       "3                  Media Data intern   \n",
       "4           Data Scientist Assistant   \n",
       "\n",
       "                                      job_detail_url   job_listed  \\\n",
       "0  https://fr.linkedin.com/jobs/view/data-analyst...    1 day ago   \n",
       "1  https://fr.linkedin.com/jobs/view/data-scienti...  8 hours ago   \n",
       "2  https://fr.linkedin.com/jobs/view/junior-finan...   1 week ago   \n",
       "3  https://fr.linkedin.com/jobs/view/media-data-i...   1 week ago   \n",
       "4  https://fr.linkedin.com/jobs/view/data-scienti...  3 weeks ago   \n",
       "\n",
       "                            company_name  \\\n",
       "0                             Groupe TF1   \n",
       "1  Université de Reims Champagne-Ardenne   \n",
       "2                                  Accor   \n",
       "3                                  Loewe   \n",
       "4                                  Teads   \n",
       "\n",
       "                                        company_link  \\\n",
       "0  https://fr.linkedin.com/company/groupetf1?trk=...   \n",
       "1  https://fr.linkedin.com/company/universite-de-...   \n",
       "2  https://fr.linkedin.com/company/accor?trk=publ...   \n",
       "3  https://es.linkedin.com/company/loewe?trk=publ...   \n",
       "4  https://www.linkedin.com/company/teads?trk=pub...   \n",
       "\n",
       "                             company_location  \n",
       "0           Greater Paris Metropolitan Region  \n",
       "1                    Reims, Grand Est, France  \n",
       "2  Issy-les-Moulineaux, Île-de-France, France  \n",
       "3                Paris, Île-de-France, France  \n",
       "4              Montpellier, Occitanie, France  "
      ]
     },
     "execution_count": 10,
     "metadata": {},
     "output_type": "execute_result"
    }
   ],
   "source": [
    "data1.head()"
   ]
  },
  {
   "cell_type": "code",
   "execution_count": 30,
   "id": "82b4bce5",
   "metadata": {},
   "outputs": [],
   "source": [
    "# Drop rows where any column contains 'not-found'\n",
    "cleaned_data = data[~data.apply(lambda row: row.astype(str).str.contains('not-found').any(), axis=1)]"
   ]
  },
  {
   "cell_type": "code",
   "execution_count": 31,
   "id": "5d67a015",
   "metadata": {},
   "outputs": [],
   "source": [
    "# Save the cleaned data to a new CSV file\n",
    "cleaned_data.to_csv('cleaned_jobs.csv', index=False)"
   ]
  },
  {
   "cell_type": "markdown",
   "id": "eaf951f4",
   "metadata": {},
   "source": [
    "### Import Data"
   ]
  },
  {
   "cell_type": "code",
   "execution_count": 6,
   "id": "f918daf9",
   "metadata": {},
   "outputs": [
    {
     "data": {
      "text/html": [
       "<div>\n",
       "<style scoped>\n",
       "    .dataframe tbody tr th:only-of-type {\n",
       "        vertical-align: middle;\n",
       "    }\n",
       "\n",
       "    .dataframe tbody tr th {\n",
       "        vertical-align: top;\n",
       "    }\n",
       "\n",
       "    .dataframe thead th {\n",
       "        text-align: right;\n",
       "    }\n",
       "</style>\n",
       "<table border=\"1\" class=\"dataframe\">\n",
       "  <thead>\n",
       "    <tr style=\"text-align: right;\">\n",
       "      <th></th>\n",
       "      <th>job_title</th>\n",
       "      <th>job_detail_url</th>\n",
       "      <th>job_listed</th>\n",
       "      <th>company_name</th>\n",
       "      <th>company_link</th>\n",
       "      <th>company_location</th>\n",
       "      <th>datePublication</th>\n",
       "    </tr>\n",
       "  </thead>\n",
       "  <tbody>\n",
       "    <tr>\n",
       "      <th>0</th>\n",
       "      <td>Data Analyst H/F</td>\n",
       "      <td>https://fr.linkedin.com/jobs/view/data-analyst...</td>\n",
       "      <td>1 day ago</td>\n",
       "      <td>Groupe TF1</td>\n",
       "      <td>https://fr.linkedin.com/company/groupetf1?trk=...</td>\n",
       "      <td>Greater Paris Metropolitan Region</td>\n",
       "      <td>2024</td>\n",
       "    </tr>\n",
       "    <tr>\n",
       "      <th>1</th>\n",
       "      <td>Data Scientist</td>\n",
       "      <td>https://fr.linkedin.com/jobs/view/data-scienti...</td>\n",
       "      <td>8 hours ago</td>\n",
       "      <td>Université de Reims Champagne-Ardenne</td>\n",
       "      <td>https://fr.linkedin.com/company/universite-de-...</td>\n",
       "      <td>Reims, Grand Est, France</td>\n",
       "      <td>2024</td>\n",
       "    </tr>\n",
       "    <tr>\n",
       "      <th>2</th>\n",
       "      <td>Junior Financial Business Analyst</td>\n",
       "      <td>https://fr.linkedin.com/jobs/view/junior-finan...</td>\n",
       "      <td>1 week ago</td>\n",
       "      <td>Accor</td>\n",
       "      <td>https://fr.linkedin.com/company/accor?trk=publ...</td>\n",
       "      <td>Issy-les-Moulineaux, Île-de-France, France</td>\n",
       "      <td>2024</td>\n",
       "    </tr>\n",
       "    <tr>\n",
       "      <th>3</th>\n",
       "      <td>Media Data intern</td>\n",
       "      <td>https://fr.linkedin.com/jobs/view/media-data-i...</td>\n",
       "      <td>1 week ago</td>\n",
       "      <td>Loewe</td>\n",
       "      <td>https://es.linkedin.com/company/loewe?trk=publ...</td>\n",
       "      <td>Paris, Île-de-France, France</td>\n",
       "      <td>2024</td>\n",
       "    </tr>\n",
       "    <tr>\n",
       "      <th>4</th>\n",
       "      <td>Data Scientist Assistant</td>\n",
       "      <td>https://fr.linkedin.com/jobs/view/data-scienti...</td>\n",
       "      <td>3 weeks ago</td>\n",
       "      <td>Teads</td>\n",
       "      <td>https://www.linkedin.com/company/teads?trk=pub...</td>\n",
       "      <td>Montpellier, Occitanie, France</td>\n",
       "      <td>2024</td>\n",
       "    </tr>\n",
       "  </tbody>\n",
       "</table>\n",
       "</div>"
      ],
      "text/plain": [
       "                           job_title  \\\n",
       "0                   Data Analyst H/F   \n",
       "1                     Data Scientist   \n",
       "2  Junior Financial Business Analyst   \n",
       "3                  Media Data intern   \n",
       "4           Data Scientist Assistant   \n",
       "\n",
       "                                      job_detail_url   job_listed  \\\n",
       "0  https://fr.linkedin.com/jobs/view/data-analyst...    1 day ago   \n",
       "1  https://fr.linkedin.com/jobs/view/data-scienti...  8 hours ago   \n",
       "2  https://fr.linkedin.com/jobs/view/junior-finan...   1 week ago   \n",
       "3  https://fr.linkedin.com/jobs/view/media-data-i...   1 week ago   \n",
       "4  https://fr.linkedin.com/jobs/view/data-scienti...  3 weeks ago   \n",
       "\n",
       "                            company_name  \\\n",
       "0                             Groupe TF1   \n",
       "1  Université de Reims Champagne-Ardenne   \n",
       "2                                  Accor   \n",
       "3                                  Loewe   \n",
       "4                                  Teads   \n",
       "\n",
       "                                        company_link  \\\n",
       "0  https://fr.linkedin.com/company/groupetf1?trk=...   \n",
       "1  https://fr.linkedin.com/company/universite-de-...   \n",
       "2  https://fr.linkedin.com/company/accor?trk=publ...   \n",
       "3  https://es.linkedin.com/company/loewe?trk=publ...   \n",
       "4  https://www.linkedin.com/company/teads?trk=pub...   \n",
       "\n",
       "                             company_location  datePublication  \n",
       "0           Greater Paris Metropolitan Region             2024  \n",
       "1                    Reims, Grand Est, France             2024  \n",
       "2  Issy-les-Moulineaux, Île-de-France, France             2024  \n",
       "3                Paris, Île-de-France, France             2024  \n",
       "4              Montpellier, Occitanie, France             2024  "
      ]
     },
     "execution_count": 6,
     "metadata": {},
     "output_type": "execute_result"
    }
   ],
   "source": [
    "data_1 = pd.read_csv('scrapped jobs.csv')\n",
    "# Add the new column 'date' and fill it with 2024\n",
    "data_1['datePublication'] = 2024\n",
    "data_1.head()"
   ]
  },
  {
   "cell_type": "code",
   "execution_count": 7,
   "id": "6346a76c",
   "metadata": {},
   "outputs": [
    {
     "data": {
      "text/html": [
       "<div>\n",
       "<style scoped>\n",
       "    .dataframe tbody tr th:only-of-type {\n",
       "        vertical-align: middle;\n",
       "    }\n",
       "\n",
       "    .dataframe tbody tr th {\n",
       "        vertical-align: top;\n",
       "    }\n",
       "\n",
       "    .dataframe thead th {\n",
       "        text-align: right;\n",
       "    }\n",
       "</style>\n",
       "<table border=\"1\" class=\"dataframe\">\n",
       "  <thead>\n",
       "    <tr style=\"text-align: right;\">\n",
       "      <th></th>\n",
       "      <th>job_title</th>\n",
       "      <th>company_location</th>\n",
       "      <th>datePublication</th>\n",
       "    </tr>\n",
       "  </thead>\n",
       "  <tbody>\n",
       "    <tr>\n",
       "      <th>0</th>\n",
       "      <td>Data Analyst H/F</td>\n",
       "      <td>Greater Paris Metropolitan Region</td>\n",
       "      <td>2024</td>\n",
       "    </tr>\n",
       "    <tr>\n",
       "      <th>1</th>\n",
       "      <td>Data Scientist</td>\n",
       "      <td>Reims, Grand Est, France</td>\n",
       "      <td>2024</td>\n",
       "    </tr>\n",
       "    <tr>\n",
       "      <th>2</th>\n",
       "      <td>Junior Financial Business Analyst</td>\n",
       "      <td>Issy-les-Moulineaux, Île-de-France, France</td>\n",
       "      <td>2024</td>\n",
       "    </tr>\n",
       "    <tr>\n",
       "      <th>3</th>\n",
       "      <td>Media Data intern</td>\n",
       "      <td>Paris, Île-de-France, France</td>\n",
       "      <td>2024</td>\n",
       "    </tr>\n",
       "    <tr>\n",
       "      <th>4</th>\n",
       "      <td>Data Scientist Assistant</td>\n",
       "      <td>Montpellier, Occitanie, France</td>\n",
       "      <td>2024</td>\n",
       "    </tr>\n",
       "  </tbody>\n",
       "</table>\n",
       "</div>"
      ],
      "text/plain": [
       "                           job_title  \\\n",
       "0                   Data Analyst H/F   \n",
       "1                     Data Scientist   \n",
       "2  Junior Financial Business Analyst   \n",
       "3                  Media Data intern   \n",
       "4           Data Scientist Assistant   \n",
       "\n",
       "                             company_location  datePublication  \n",
       "0           Greater Paris Metropolitan Region             2024  \n",
       "1                    Reims, Grand Est, France             2024  \n",
       "2  Issy-les-Moulineaux, Île-de-France, France             2024  \n",
       "3                Paris, Île-de-France, France             2024  \n",
       "4              Montpellier, Occitanie, France             2024  "
      ]
     },
     "execution_count": 7,
     "metadata": {},
     "output_type": "execute_result"
    }
   ],
   "source": [
    "# Drop the columns 'job_detail_url' and 'job_listed'\n",
    "data_1 = data_1.drop(columns=['job_detail_url', 'job_listed','company_name','company_link'])\n",
    "data_1.head()"
   ]
  },
  {
   "cell_type": "code",
   "execution_count": null,
   "id": "28e51ca3",
   "metadata": {},
   "outputs": [],
   "source": [
    "combined_data = pd.concat([data_1_cleaned, data_2], ignore_index=True)"
   ]
  },
  {
   "cell_type": "code",
   "execution_count": 5,
   "id": "e079734e",
   "metadata": {},
   "outputs": [
    {
     "data": {
      "text/plain": [
       "(1189, 5)"
      ]
     },
     "execution_count": 5,
     "metadata": {},
     "output_type": "execute_result"
    }
   ],
   "source": [
    "data_1.shape"
   ]
  },
  {
   "cell_type": "code",
   "execution_count": 12,
   "id": "577810cf",
   "metadata": {},
   "outputs": [
    {
     "data": {
      "text/html": [
       "<div>\n",
       "<style scoped>\n",
       "    .dataframe tbody tr th:only-of-type {\n",
       "        vertical-align: middle;\n",
       "    }\n",
       "\n",
       "    .dataframe tbody tr th {\n",
       "        vertical-align: top;\n",
       "    }\n",
       "\n",
       "    .dataframe thead th {\n",
       "        text-align: right;\n",
       "    }\n",
       "</style>\n",
       "<table border=\"1\" class=\"dataframe\">\n",
       "  <thead>\n",
       "    <tr style=\"text-align: right;\">\n",
       "      <th></th>\n",
       "      <th>company_location</th>\n",
       "      <th>job_title</th>\n",
       "      <th>datePublication</th>\n",
       "    </tr>\n",
       "  </thead>\n",
       "  <tbody>\n",
       "    <tr>\n",
       "      <th>0</th>\n",
       "      <td>NEUILLY SUR SEINE</td>\n",
       "      <td>Développeur Python F/H</td>\n",
       "      <td>2023-11-23</td>\n",
       "    </tr>\n",
       "    <tr>\n",
       "      <th>1</th>\n",
       "      <td>PARIS 18</td>\n",
       "      <td>Développeur Python F/H</td>\n",
       "      <td>2023-11-23</td>\n",
       "    </tr>\n",
       "    <tr>\n",
       "      <th>2</th>\n",
       "      <td>PARIS 18</td>\n",
       "      <td>Développeur Python F/H</td>\n",
       "      <td>2023-11-23</td>\n",
       "    </tr>\n",
       "    <tr>\n",
       "      <th>3</th>\n",
       "      <td>GRENOBLE</td>\n",
       "      <td>Développeur Python F/H</td>\n",
       "      <td>2023-11-22</td>\n",
       "    </tr>\n",
       "    <tr>\n",
       "      <th>4</th>\n",
       "      <td>AIX EN PROVENCE</td>\n",
       "      <td>Developpeur Python F/H</td>\n",
       "      <td>2023-11-22</td>\n",
       "    </tr>\n",
       "  </tbody>\n",
       "</table>\n",
       "</div>"
      ],
      "text/plain": [
       "    company_location               job_title datePublication\n",
       "0  NEUILLY SUR SEINE  Développeur Python F/H      2023-11-23\n",
       "1           PARIS 18  Développeur Python F/H      2023-11-23\n",
       "2           PARIS 18  Développeur Python F/H      2023-11-23\n",
       "3           GRENOBLE  Développeur Python F/H      2023-11-22\n",
       "4    AIX EN PROVENCE  Developpeur Python F/H      2023-11-22"
      ]
     },
     "execution_count": 12,
     "metadata": {},
     "output_type": "execute_result"
    }
   ],
   "source": [
    "# Load the CSV data\n",
    "data_2 = pd.read_csv('French jobs dataset.csv')\n",
    "data_2 = data_2.drop(columns=['Unnamed: 0','datePremierePublication', 'LANGUE', 'SAVOIR_ETRE','SAVOIR_FAIRE', 'salaireTexte', 'entreprise', 'enseigne', 'description', 'profil','entreprise_description'])\n",
    "data_2 = data_2.rename(columns={\n",
    "    'adresseOffre': 'company_location',\n",
    "    'intitule': 'job_title'\n",
    "})\n",
    "# Remove the time component from the 'date' column\n",
    "data_2['datePublication'] = data_2['datePublication'].str.split('T').str[0]\n",
    "data_2.head()"
   ]
  },
  {
   "cell_type": "code",
   "execution_count": 8,
   "id": "8def8092",
   "metadata": {},
   "outputs": [
    {
     "data": {
      "text/plain": [
       "(403, 14)"
      ]
     },
     "execution_count": 8,
     "metadata": {},
     "output_type": "execute_result"
    }
   ],
   "source": [
    "data.shape"
   ]
  },
  {
   "cell_type": "code",
   "execution_count": 13,
   "id": "f93c0eb1",
   "metadata": {},
   "outputs": [],
   "source": [
    "# Load the CSV data\n",
    "data_3 = pd.read_csv('data_science_canada_march_2024.csv')\n",
    "# Select the columns to keep and rename them\n",
    "data_3 = data_3[['location', 'publishedAt', 'title']].rename(columns={\n",
    "    'location': 'company_location',\n",
    "    'publishedAt': 'datePublication',\n",
    "    'title': 'job_title'\n",
    "})"
   ]
  },
  {
   "cell_type": "code",
   "execution_count": 14,
   "id": "6723b006",
   "metadata": {},
   "outputs": [
    {
     "data": {
      "text/html": [
       "<div>\n",
       "<style scoped>\n",
       "    .dataframe tbody tr th:only-of-type {\n",
       "        vertical-align: middle;\n",
       "    }\n",
       "\n",
       "    .dataframe tbody tr th {\n",
       "        vertical-align: top;\n",
       "    }\n",
       "\n",
       "    .dataframe thead th {\n",
       "        text-align: right;\n",
       "    }\n",
       "</style>\n",
       "<table border=\"1\" class=\"dataframe\">\n",
       "  <thead>\n",
       "    <tr style=\"text-align: right;\">\n",
       "      <th></th>\n",
       "      <th>company_location</th>\n",
       "      <th>datePublication</th>\n",
       "      <th>job_title</th>\n",
       "    </tr>\n",
       "  </thead>\n",
       "  <tbody>\n",
       "    <tr>\n",
       "      <th>0</th>\n",
       "      <td>Toronto, Ontario, Canada</td>\n",
       "      <td>2024-02-14</td>\n",
       "      <td>Data Science, Analytics, International</td>\n",
       "    </tr>\n",
       "    <tr>\n",
       "      <th>1</th>\n",
       "      <td>Canada</td>\n",
       "      <td>2024-03-20</td>\n",
       "      <td>Junior Data Scientist</td>\n",
       "    </tr>\n",
       "    <tr>\n",
       "      <th>2</th>\n",
       "      <td>Toronto, Ontario, Canada</td>\n",
       "      <td>2024-02-21</td>\n",
       "      <td>Associate Data Scientist</td>\n",
       "    </tr>\n",
       "    <tr>\n",
       "      <th>3</th>\n",
       "      <td>Toronto, Ontario, Canada</td>\n",
       "      <td>2024-02-08</td>\n",
       "      <td>Data Scientist</td>\n",
       "    </tr>\n",
       "    <tr>\n",
       "      <th>4</th>\n",
       "      <td>Markham, Ontario, Canada</td>\n",
       "      <td>2024-02-29</td>\n",
       "      <td>Data Scientist</td>\n",
       "    </tr>\n",
       "  </tbody>\n",
       "</table>\n",
       "</div>"
      ],
      "text/plain": [
       "           company_location datePublication  \\\n",
       "0  Toronto, Ontario, Canada      2024-02-14   \n",
       "1                    Canada      2024-03-20   \n",
       "2  Toronto, Ontario, Canada      2024-02-21   \n",
       "3  Toronto, Ontario, Canada      2024-02-08   \n",
       "4  Markham, Ontario, Canada      2024-02-29   \n",
       "\n",
       "                                job_title  \n",
       "0  Data Science, Analytics, International  \n",
       "1                   Junior Data Scientist  \n",
       "2                Associate Data Scientist  \n",
       "3                          Data Scientist  \n",
       "4                          Data Scientist  "
      ]
     },
     "execution_count": 14,
     "metadata": {},
     "output_type": "execute_result"
    }
   ],
   "source": [
    "data_3.head()"
   ]
  },
  {
   "cell_type": "code",
   "execution_count": 21,
   "id": "cbd1daf9",
   "metadata": {},
   "outputs": [
    {
     "data": {
      "text/plain": [
       "(340, 17)"
      ]
     },
     "execution_count": 21,
     "metadata": {},
     "output_type": "execute_result"
    }
   ],
   "source": [
    "data_3.shape"
   ]
  },
  {
   "cell_type": "code",
   "execution_count": 15,
   "id": "61fa5417",
   "metadata": {},
   "outputs": [],
   "source": [
    "# Load the CSV data\n",
    "data_4 = pd.read_csv('linkedin_canada.csv')\n",
    "data_4 = data_4[['location', 'publishedAt', 'title']].rename(columns={\n",
    "    'location': 'company_location',\n",
    "    'publishedAt': 'datePublication',\n",
    "    'title': 'job_title'\n",
    "})"
   ]
  },
  {
   "cell_type": "code",
   "execution_count": 16,
   "id": "f9729a39",
   "metadata": {},
   "outputs": [
    {
     "data": {
      "text/html": [
       "<div>\n",
       "<style scoped>\n",
       "    .dataframe tbody tr th:only-of-type {\n",
       "        vertical-align: middle;\n",
       "    }\n",
       "\n",
       "    .dataframe tbody tr th {\n",
       "        vertical-align: top;\n",
       "    }\n",
       "\n",
       "    .dataframe thead th {\n",
       "        text-align: right;\n",
       "    }\n",
       "</style>\n",
       "<table border=\"1\" class=\"dataframe\">\n",
       "  <thead>\n",
       "    <tr style=\"text-align: right;\">\n",
       "      <th></th>\n",
       "      <th>company_location</th>\n",
       "      <th>datePublication</th>\n",
       "      <th>job_title</th>\n",
       "    </tr>\n",
       "  </thead>\n",
       "  <tbody>\n",
       "    <tr>\n",
       "      <th>0</th>\n",
       "      <td>Quebec, Canada</td>\n",
       "      <td>2024-01-05</td>\n",
       "      <td>Machine Learning Engineer</td>\n",
       "    </tr>\n",
       "    <tr>\n",
       "      <th>1</th>\n",
       "      <td>Ontario, Canada</td>\n",
       "      <td>2024-01-05</td>\n",
       "      <td>Data Scientist, Business Analytics</td>\n",
       "    </tr>\n",
       "    <tr>\n",
       "      <th>2</th>\n",
       "      <td>Montreal, Quebec, Canada</td>\n",
       "      <td>2023-09-15</td>\n",
       "      <td>Data Scientist</td>\n",
       "    </tr>\n",
       "    <tr>\n",
       "      <th>3</th>\n",
       "      <td>Toronto, Ontario, Canada</td>\n",
       "      <td>2023-11-15</td>\n",
       "      <td>Data Science, Investment Research</td>\n",
       "    </tr>\n",
       "    <tr>\n",
       "      <th>4</th>\n",
       "      <td>Montreal, Quebec, Canada</td>\n",
       "      <td>2024-01-05</td>\n",
       "      <td>Data Scientist</td>\n",
       "    </tr>\n",
       "  </tbody>\n",
       "</table>\n",
       "</div>"
      ],
      "text/plain": [
       "           company_location datePublication  \\\n",
       "0            Quebec, Canada      2024-01-05   \n",
       "1           Ontario, Canada      2024-01-05   \n",
       "2  Montreal, Quebec, Canada      2023-09-15   \n",
       "3  Toronto, Ontario, Canada      2023-11-15   \n",
       "4  Montreal, Quebec, Canada      2024-01-05   \n",
       "\n",
       "                            job_title  \n",
       "0           Machine Learning Engineer  \n",
       "1  Data Scientist, Business Analytics  \n",
       "2                      Data Scientist  \n",
       "3   Data Science, Investment Research  \n",
       "4                      Data Scientist  "
      ]
     },
     "execution_count": 16,
     "metadata": {},
     "output_type": "execute_result"
    }
   ],
   "source": [
    "data_4.head()"
   ]
  },
  {
   "cell_type": "code",
   "execution_count": 18,
   "id": "8bf2340c",
   "metadata": {},
   "outputs": [
    {
     "data": {
      "text/plain": [
       "(275, 13)"
      ]
     },
     "execution_count": 18,
     "metadata": {},
     "output_type": "execute_result"
    }
   ],
   "source": [
    "data_4.shape"
   ]
  },
  {
   "cell_type": "code",
   "execution_count": 17,
   "id": "e81ff4e3",
   "metadata": {},
   "outputs": [
    {
     "data": {
      "text/html": [
       "<div>\n",
       "<style scoped>\n",
       "    .dataframe tbody tr th:only-of-type {\n",
       "        vertical-align: middle;\n",
       "    }\n",
       "\n",
       "    .dataframe tbody tr th {\n",
       "        vertical-align: top;\n",
       "    }\n",
       "\n",
       "    .dataframe thead th {\n",
       "        text-align: right;\n",
       "    }\n",
       "</style>\n",
       "<table border=\"1\" class=\"dataframe\">\n",
       "  <thead>\n",
       "    <tr style=\"text-align: right;\">\n",
       "      <th></th>\n",
       "      <th>job_title</th>\n",
       "      <th>company_location</th>\n",
       "      <th>datePublication</th>\n",
       "    </tr>\n",
       "  </thead>\n",
       "  <tbody>\n",
       "    <tr>\n",
       "      <th>0</th>\n",
       "      <td>Data Analyst</td>\n",
       "      <td>Cairo, Cairo, Egypt</td>\n",
       "      <td>2022-11-18</td>\n",
       "    </tr>\n",
       "    <tr>\n",
       "      <th>1</th>\n",
       "      <td>Data Analyst</td>\n",
       "      <td>Nairobi County, Kenya</td>\n",
       "      <td>2022-11-01</td>\n",
       "    </tr>\n",
       "    <tr>\n",
       "      <th>2</th>\n",
       "      <td>Data Analyst (Credit Risk)</td>\n",
       "      <td>Cape Town, Western Cape, South Africa</td>\n",
       "      <td>2022-11-21</td>\n",
       "    </tr>\n",
       "    <tr>\n",
       "      <th>3</th>\n",
       "      <td>Data Analyst</td>\n",
       "      <td>Nairobi, Nairobi County, Kenya</td>\n",
       "      <td>2022-11-01</td>\n",
       "    </tr>\n",
       "    <tr>\n",
       "      <th>4</th>\n",
       "      <td>Data Analyst</td>\n",
       "      <td>City of Johannesburg, Gauteng, South Africa</td>\n",
       "      <td>2022-10-27</td>\n",
       "    </tr>\n",
       "  </tbody>\n",
       "</table>\n",
       "</div>"
      ],
      "text/plain": [
       "                    job_title                             company_location  \\\n",
       "0                Data Analyst                          Cairo, Cairo, Egypt   \n",
       "1                Data Analyst                        Nairobi County, Kenya   \n",
       "2  Data Analyst (Credit Risk)        Cape Town, Western Cape, South Africa   \n",
       "3                Data Analyst               Nairobi, Nairobi County, Kenya   \n",
       "4                Data Analyst  City of Johannesburg, Gauteng, South Africa   \n",
       "\n",
       "  datePublication  \n",
       "0      2022-11-18  \n",
       "1      2022-11-01  \n",
       "2      2022-11-21  \n",
       "3      2022-11-01  \n",
       "4      2022-10-27  "
      ]
     },
     "execution_count": 17,
     "metadata": {},
     "output_type": "execute_result"
    }
   ],
   "source": [
    "# Load the CSV data\n",
    "data_5 = pd.read_csv('linkedin-jobs-africa.csv')\n",
    "data_5 = data_5[['title', 'location', 'posted_date']].rename(columns={\n",
    "    'location': 'company_location',\n",
    "    'posted_date': 'datePublication',\n",
    "    'title': 'job_title'\n",
    "})\n",
    "data_5.head()"
   ]
  },
  {
   "cell_type": "code",
   "execution_count": 33,
   "id": "8575e319",
   "metadata": {},
   "outputs": [
    {
     "data": {
      "text/plain": [
       "(2872, 9)"
      ]
     },
     "execution_count": 33,
     "metadata": {},
     "output_type": "execute_result"
    }
   ],
   "source": [
    "data_5.shape"
   ]
  },
  {
   "cell_type": "code",
   "execution_count": 18,
   "id": "f66f4127",
   "metadata": {},
   "outputs": [
    {
     "data": {
      "text/html": [
       "<div>\n",
       "<style scoped>\n",
       "    .dataframe tbody tr th:only-of-type {\n",
       "        vertical-align: middle;\n",
       "    }\n",
       "\n",
       "    .dataframe tbody tr th {\n",
       "        vertical-align: top;\n",
       "    }\n",
       "\n",
       "    .dataframe thead th {\n",
       "        text-align: right;\n",
       "    }\n",
       "</style>\n",
       "<table border=\"1\" class=\"dataframe\">\n",
       "  <thead>\n",
       "    <tr style=\"text-align: right;\">\n",
       "      <th></th>\n",
       "      <th>job_title</th>\n",
       "      <th>company_location</th>\n",
       "      <th>datePublication</th>\n",
       "    </tr>\n",
       "  </thead>\n",
       "  <tbody>\n",
       "    <tr>\n",
       "      <th>0</th>\n",
       "      <td>Data Analyst</td>\n",
       "      <td>Cairo, Cairo, Egypt</td>\n",
       "      <td>2022-11-18</td>\n",
       "    </tr>\n",
       "    <tr>\n",
       "      <th>1</th>\n",
       "      <td>Data Analyst</td>\n",
       "      <td>Nairobi County, Kenya</td>\n",
       "      <td>2022-11-01</td>\n",
       "    </tr>\n",
       "    <tr>\n",
       "      <th>2</th>\n",
       "      <td>Data Analyst (Credit Risk)</td>\n",
       "      <td>Cape Town, Western Cape, South Africa</td>\n",
       "      <td>2022-11-21</td>\n",
       "    </tr>\n",
       "    <tr>\n",
       "      <th>3</th>\n",
       "      <td>Data Analyst</td>\n",
       "      <td>Nairobi, Nairobi County, Kenya</td>\n",
       "      <td>2022-11-01</td>\n",
       "    </tr>\n",
       "    <tr>\n",
       "      <th>4</th>\n",
       "      <td>Data Analyst</td>\n",
       "      <td>City of Johannesburg, Gauteng, South Africa</td>\n",
       "      <td>2022-10-27</td>\n",
       "    </tr>\n",
       "  </tbody>\n",
       "</table>\n",
       "</div>"
      ],
      "text/plain": [
       "                    job_title                             company_location  \\\n",
       "0                Data Analyst                          Cairo, Cairo, Egypt   \n",
       "1                Data Analyst                        Nairobi County, Kenya   \n",
       "2  Data Analyst (Credit Risk)        Cape Town, Western Cape, South Africa   \n",
       "3                Data Analyst               Nairobi, Nairobi County, Kenya   \n",
       "4                Data Analyst  City of Johannesburg, Gauteng, South Africa   \n",
       "\n",
       "  datePublication  \n",
       "0      2022-11-18  \n",
       "1      2022-11-01  \n",
       "2      2022-11-21  \n",
       "3      2022-11-01  \n",
       "4      2022-10-27  "
      ]
     },
     "execution_count": 18,
     "metadata": {},
     "output_type": "execute_result"
    }
   ],
   "source": [
    "# Load the CSV data\n",
    "data_6 = pd.read_csv('linkedin-jobs-africa.csv')\n",
    "data_6 = data_6[['title', 'location', 'posted_date']].rename(columns={\n",
    "    'location': 'company_location',\n",
    "    'posted_date': 'datePublication',\n",
    "    'title': 'job_title'\n",
    "})\n",
    "data_6.head()"
   ]
  },
  {
   "cell_type": "code",
   "execution_count": 38,
   "id": "ed29af99",
   "metadata": {},
   "outputs": [
    {
     "data": {
      "text/plain": [
       "(2872, 9)"
      ]
     },
     "execution_count": 38,
     "metadata": {},
     "output_type": "execute_result"
    }
   ],
   "source": [
    "data_6.shape"
   ]
  },
  {
   "cell_type": "code",
   "execution_count": 19,
   "id": "6259168e",
   "metadata": {},
   "outputs": [
    {
     "data": {
      "text/html": [
       "<div>\n",
       "<style scoped>\n",
       "    .dataframe tbody tr th:only-of-type {\n",
       "        vertical-align: middle;\n",
       "    }\n",
       "\n",
       "    .dataframe tbody tr th {\n",
       "        vertical-align: top;\n",
       "    }\n",
       "\n",
       "    .dataframe thead th {\n",
       "        text-align: right;\n",
       "    }\n",
       "</style>\n",
       "<table border=\"1\" class=\"dataframe\">\n",
       "  <thead>\n",
       "    <tr style=\"text-align: right;\">\n",
       "      <th></th>\n",
       "      <th>job_title</th>\n",
       "      <th>company_location</th>\n",
       "      <th>datePublication</th>\n",
       "    </tr>\n",
       "  </thead>\n",
       "  <tbody>\n",
       "    <tr>\n",
       "      <th>0</th>\n",
       "      <td>Data Analyst - Recent Graduate</td>\n",
       "      <td>Buffalo-Niagara Falls Area</td>\n",
       "      <td>2022-11-22</td>\n",
       "    </tr>\n",
       "    <tr>\n",
       "      <th>1</th>\n",
       "      <td>Data Analyst - Recent Graduate</td>\n",
       "      <td>San Jose, CA</td>\n",
       "      <td>2022-11-22</td>\n",
       "    </tr>\n",
       "    <tr>\n",
       "      <th>2</th>\n",
       "      <td>Data Analyst</td>\n",
       "      <td>Texas, United States</td>\n",
       "      <td>2022-11-17</td>\n",
       "    </tr>\n",
       "    <tr>\n",
       "      <th>3</th>\n",
       "      <td>Data Analyst</td>\n",
       "      <td>Illinois, United States</td>\n",
       "      <td>2022-11-17</td>\n",
       "    </tr>\n",
       "    <tr>\n",
       "      <th>4</th>\n",
       "      <td>Entry-Level Data Analyst</td>\n",
       "      <td>Chicago, IL</td>\n",
       "      <td>2022-11-17</td>\n",
       "    </tr>\n",
       "  </tbody>\n",
       "</table>\n",
       "</div>"
      ],
      "text/plain": [
       "                        job_title            company_location datePublication\n",
       "0  Data Analyst - Recent Graduate  Buffalo-Niagara Falls Area      2022-11-22\n",
       "1  Data Analyst - Recent Graduate                San Jose, CA      2022-11-22\n",
       "2                    Data Analyst        Texas, United States      2022-11-17\n",
       "3                    Data Analyst     Illinois, United States      2022-11-17\n",
       "4        Entry-Level Data Analyst                 Chicago, IL      2022-11-17"
      ]
     },
     "execution_count": 19,
     "metadata": {},
     "output_type": "execute_result"
    }
   ],
   "source": [
    "# Load the CSV data\n",
    "data_7 = pd.read_csv('linkedin-jobs-usa.csv')\n",
    "data_7 = data_7[['title', 'location', 'posted_date']].rename(columns={\n",
    "    'location': 'company_location',\n",
    "    'posted_date': 'datePublication',\n",
    "    'title': 'job_title'\n",
    "})\n",
    "data_7.head()"
   ]
  },
  {
   "cell_type": "code",
   "execution_count": 40,
   "id": "6c631142",
   "metadata": {},
   "outputs": [
    {
     "data": {
      "text/plain": [
       "(2845, 9)"
      ]
     },
     "execution_count": 40,
     "metadata": {},
     "output_type": "execute_result"
    }
   ],
   "source": [
    "data_7.shape"
   ]
  },
  {
   "cell_type": "code",
   "execution_count": 20,
   "id": "68fceacf",
   "metadata": {},
   "outputs": [
    {
     "name": "stdout",
     "output_type": "stream",
     "text": [
      "                           job_title  \\\n",
      "0                   Data Analyst H/F   \n",
      "1                     Data Scientist   \n",
      "2  Junior Financial Business Analyst   \n",
      "3                  Media Data intern   \n",
      "4           Data Scientist Assistant   \n",
      "\n",
      "                             company_location datePublication  \n",
      "0           Greater Paris Metropolitan Region            2024  \n",
      "1                    Reims, Grand Est, France            2024  \n",
      "2  Issy-les-Moulineaux, Île-de-France, France            2024  \n",
      "3                Paris, Île-de-France, France            2024  \n",
      "4              Montpellier, Occitanie, France            2024  \n",
      "(10796, 3)\n"
     ]
    }
   ],
   "source": []
  },
  {
   "cell_type": "code",
   "execution_count": null,
   "id": "14f71118",
   "metadata": {},
   "outputs": [],
   "source": []
  }
 ],
 "metadata": {
  "kernelspec": {
   "display_name": "Python 3 (ipykernel)",
   "language": "python",
   "name": "python3"
  },
  "language_info": {
   "codemirror_mode": {
    "name": "ipython",
    "version": 3
   },
   "file_extension": ".py",
   "mimetype": "text/x-python",
   "name": "python",
   "nbconvert_exporter": "python",
   "pygments_lexer": "ipython3",
   "version": "3.11.3"
  }
 },
 "nbformat": 4,
 "nbformat_minor": 5
}
